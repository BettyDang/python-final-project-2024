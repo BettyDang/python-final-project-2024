{
 "cells": [
  {
   "cell_type": "code",
   "execution_count": 1,
   "id": "5a226efc-5061-4d7b-93e6-5f8f630f964d",
   "metadata": {},
   "outputs": [
    {
     "name": "stdout",
     "output_type": "stream",
     "text": [
      "Requirement already satisfied: sentence-transformers in c:\\users\\hello\\anaconda3\\lib\\site-packages (3.2.1)\n",
      "Requirement already satisfied: transformers<5.0.0,>=4.41.0 in c:\\users\\hello\\anaconda3\\lib\\site-packages (from sentence-transformers) (4.45.2)\n",
      "Requirement already satisfied: tqdm in c:\\users\\hello\\anaconda3\\lib\\site-packages (from sentence-transformers) (4.66.4)\n",
      "Requirement already satisfied: torch>=1.11.0 in c:\\users\\hello\\anaconda3\\lib\\site-packages (from sentence-transformers) (2.5.0)\n",
      "Requirement already satisfied: scikit-learn in c:\\users\\hello\\anaconda3\\lib\\site-packages (from sentence-transformers) (1.4.2)\n",
      "Requirement already satisfied: scipy in c:\\users\\hello\\anaconda3\\lib\\site-packages (from sentence-transformers) (1.13.1)\n",
      "Requirement already satisfied: huggingface-hub>=0.20.0 in c:\\users\\hello\\anaconda3\\lib\\site-packages (from sentence-transformers) (0.26.1)\n",
      "Requirement already satisfied: Pillow in c:\\users\\hello\\anaconda3\\lib\\site-packages (from sentence-transformers) (10.3.0)\n",
      "Requirement already satisfied: filelock in c:\\users\\hello\\anaconda3\\lib\\site-packages (from huggingface-hub>=0.20.0->sentence-transformers) (3.13.1)\n",
      "Requirement already satisfied: fsspec>=2023.5.0 in c:\\users\\hello\\anaconda3\\lib\\site-packages (from huggingface-hub>=0.20.0->sentence-transformers) (2024.3.1)\n",
      "Requirement already satisfied: packaging>=20.9 in c:\\users\\hello\\anaconda3\\lib\\site-packages (from huggingface-hub>=0.20.0->sentence-transformers) (23.2)\n",
      "Requirement already satisfied: pyyaml>=5.1 in c:\\users\\hello\\anaconda3\\lib\\site-packages (from huggingface-hub>=0.20.0->sentence-transformers) (6.0.1)\n",
      "Requirement already satisfied: requests in c:\\users\\hello\\anaconda3\\lib\\site-packages (from huggingface-hub>=0.20.0->sentence-transformers) (2.32.2)\n",
      "Requirement already satisfied: typing-extensions>=3.7.4.3 in c:\\users\\hello\\anaconda3\\lib\\site-packages (from huggingface-hub>=0.20.0->sentence-transformers) (4.11.0)\n",
      "Requirement already satisfied: networkx in c:\\users\\hello\\anaconda3\\lib\\site-packages (from torch>=1.11.0->sentence-transformers) (3.2.1)\n",
      "Requirement already satisfied: jinja2 in c:\\users\\hello\\anaconda3\\lib\\site-packages (from torch>=1.11.0->sentence-transformers) (3.1.4)\n",
      "Requirement already satisfied: setuptools in c:\\users\\hello\\anaconda3\\lib\\site-packages (from torch>=1.11.0->sentence-transformers) (69.5.1)\n",
      "Requirement already satisfied: sympy==1.13.1 in c:\\users\\hello\\anaconda3\\lib\\site-packages (from torch>=1.11.0->sentence-transformers) (1.13.1)\n",
      "Requirement already satisfied: mpmath<1.4,>=1.1.0 in c:\\users\\hello\\anaconda3\\lib\\site-packages (from sympy==1.13.1->torch>=1.11.0->sentence-transformers) (1.3.0)\n",
      "Requirement already satisfied: colorama in c:\\users\\hello\\anaconda3\\lib\\site-packages (from tqdm->sentence-transformers) (0.4.6)\n",
      "Requirement already satisfied: numpy>=1.17 in c:\\users\\hello\\anaconda3\\lib\\site-packages (from transformers<5.0.0,>=4.41.0->sentence-transformers) (1.26.4)\n",
      "Requirement already satisfied: regex!=2019.12.17 in c:\\users\\hello\\anaconda3\\lib\\site-packages (from transformers<5.0.0,>=4.41.0->sentence-transformers) (2023.10.3)\n",
      "Requirement already satisfied: safetensors>=0.4.1 in c:\\users\\hello\\anaconda3\\lib\\site-packages (from transformers<5.0.0,>=4.41.0->sentence-transformers) (0.4.5)\n",
      "Requirement already satisfied: tokenizers<0.21,>=0.20 in c:\\users\\hello\\anaconda3\\lib\\site-packages (from transformers<5.0.0,>=4.41.0->sentence-transformers) (0.20.1)\n",
      "Requirement already satisfied: joblib>=1.2.0 in c:\\users\\hello\\anaconda3\\lib\\site-packages (from scikit-learn->sentence-transformers) (1.4.2)\n",
      "Requirement already satisfied: threadpoolctl>=2.0.0 in c:\\users\\hello\\anaconda3\\lib\\site-packages (from scikit-learn->sentence-transformers) (2.2.0)\n",
      "Requirement already satisfied: MarkupSafe>=2.0 in c:\\users\\hello\\anaconda3\\lib\\site-packages (from jinja2->torch>=1.11.0->sentence-transformers) (2.1.3)\n",
      "Requirement already satisfied: charset-normalizer<4,>=2 in c:\\users\\hello\\anaconda3\\lib\\site-packages (from requests->huggingface-hub>=0.20.0->sentence-transformers) (2.0.4)\n",
      "Requirement already satisfied: idna<4,>=2.5 in c:\\users\\hello\\anaconda3\\lib\\site-packages (from requests->huggingface-hub>=0.20.0->sentence-transformers) (3.7)\n",
      "Requirement already satisfied: urllib3<3,>=1.21.1 in c:\\users\\hello\\anaconda3\\lib\\site-packages (from requests->huggingface-hub>=0.20.0->sentence-transformers) (2.2.2)\n",
      "Requirement already satisfied: certifi>=2017.4.17 in c:\\users\\hello\\anaconda3\\lib\\site-packages (from requests->huggingface-hub>=0.20.0->sentence-transformers) (2024.7.4)\n"
     ]
    }
   ],
   "source": [
    "!pip install sentence-transformers"
   ]
  },
  {
   "cell_type": "code",
   "execution_count": 3,
   "id": "885bfc36-1224-459c-a8d5-e54a6f80f316",
   "metadata": {},
   "outputs": [
    {
     "name": "stderr",
     "output_type": "stream",
     "text": [
      "C:\\Users\\Hello\\anaconda3\\Lib\\site-packages\\sentence_transformers\\cross_encoder\\CrossEncoder.py:13: TqdmExperimentalWarning: Using `tqdm.autonotebook.tqdm` in notebook mode. Use `tqdm.tqdm` instead to force console mode (e.g. in jupyter console)\n",
      "  from tqdm.autonotebook import tqdm, trange\n"
     ]
    },
    {
     "name": "stdout",
     "output_type": "stream",
     "text": [
      "✓ Imports successful!\n"
     ]
    }
   ],
   "source": [
    "# Import required libraries\n",
    "from sentence_transformers import SentenceTransformer\n",
    "import numpy as np\n",
    "\n",
    "# Simple test to ensure everything works\n",
    "print(\"✓ Imports successful!\")"
   ]
  },
  {
   "cell_type": "code",
   "execution_count": null,
   "id": "e609ed9d-6eba-4561-8213-a806c8755cf4",
   "metadata": {},
   "outputs": [],
   "source": []
  },
  {
   "cell_type": "code",
   "execution_count": null,
   "id": "2731edc0-26b2-4943-abf5-a557e2245672",
   "metadata": {},
   "outputs": [],
   "source": []
  },
  {
   "cell_type": "code",
   "execution_count": 26,
   "id": "d4a787a7-be5a-481c-b5d7-083d5b80704b",
   "metadata": {},
   "outputs": [
    {
     "name": "stdout",
     "output_type": "stream",
     "text": [
      "Created 10 notes\n"
     ]
    }
   ],
   "source": [
    "# Initialize our collection of notes\n",
    "notes = [\n",
    "    \"Python lists are mutable sequences used to store collections of items. They can contain mixed types and are defined using square brackets.\",\n",
    "    \"Lists in Python can be modified after creation. Common operations include append(), extend(), and insert().\",\n",
    "    \"Data structures are fundamental building blocks in programming. They help organize and store data efficiently.\",\n",
    "    \"Arrays in NumPy provide efficient storage and operations for numerical data. They are widely used in scientific computing.\",\n",
    "    \"Object-oriented programming in Python uses classes and objects. Classes define the structure and behavior of objects.\",\n",
    "    \"The pandas library is built on top of NumPy and provides powerful data manipulation tools through DataFrames.\",\n",
    "    \"Version control with Git helps track changes in code. Common commands include commit, push, and pull.\",\n",
    "    \"Python functions are defined using the def keyword. They can accept parameters and return values.\",\n",
    "    \"Embedding: A numerical representation of text that captures its meaning (in our case, a vector of 384 numbers)\",\n",
    "    \"Semantic Search : Finding matches based on meaning rather than exact word matches.\",\n",
    "]\n",
    "\n",
    "# Print the number of notes we have\n",
    "print(f\"Created {len(notes)} notes\")"
   ]
  },
  {
   "cell_type": "code",
   "execution_count": null,
   "id": "ad6be0a9-772c-4b92-96be-9ea80527549d",
   "metadata": {},
   "outputs": [],
   "source": []
  },
  {
   "cell_type": "code",
   "execution_count": 28,
   "id": "30dbe8a5-0897-45e7-bcc1-44e86cf4e585",
   "metadata": {},
   "outputs": [
    {
     "name": "stdout",
     "output_type": "stream",
     "text": [
      "\n",
      "Note 1 (Length: 138 characters):\n",
      "==================================================\n",
      "Python lists are mutable sequences used to store collections of items. They can contain mixed types and are defined using square brackets.\n",
      "\n",
      "Note 2 (Length: 107 characters):\n",
      "==================================================\n",
      "Lists in Python can be modified after creation. Common operations include append(), extend(), and insert().\n",
      "\n",
      "Note 3 (Length: 110 characters):\n",
      "==================================================\n",
      "Data structures are fundamental building blocks in programming. They help organize and store data efficiently.\n",
      "\n",
      "Note 4 (Length: 122 characters):\n",
      "==================================================\n",
      "Arrays in NumPy provide efficient storage and operations for numerical data. They are widely used in scientific computing.\n",
      "\n",
      "Note 5 (Length: 117 characters):\n",
      "==================================================\n",
      "Object-oriented programming in Python uses classes and objects. Classes define the structure and behavior of objects.\n",
      "\n",
      "Note 6 (Length: 109 characters):\n",
      "==================================================\n",
      "The pandas library is built on top of NumPy and provides powerful data manipulation tools through DataFrames.\n",
      "\n",
      "Note 7 (Length: 101 characters):\n",
      "==================================================\n",
      "Version control with Git helps track changes in code. Common commands include commit, push, and pull.\n",
      "\n",
      "Note 8 (Length: 97 characters):\n",
      "==================================================\n",
      "Python functions are defined using the def keyword. They can accept parameters and return values.\n",
      "\n",
      "Note 9 (Length: 110 characters):\n",
      "==================================================\n",
      "Embedding: A numerical representation of text that captures its meaning (in our case, a vector of 384 numbers)\n",
      "\n",
      "Note 10 (Length: 82 characters):\n",
      "==================================================\n",
      "Semantic Search : Finding matches based on meaning rather than exact word matches.\n"
     ]
    }
   ],
   "source": [
    "# Print each note with its length\n",
    "for i, note in enumerate(notes):\n",
    "    print(f\"\\nNote {i+1} (Length: {len(note)} characters):\")\n",
    "    print(f\"{'='*50}\")\n",
    "    print(note)"
   ]
  },
  {
   "cell_type": "code",
   "execution_count": null,
   "id": "6cc114b1-63bc-42c1-805c-0509cf245b9e",
   "metadata": {},
   "outputs": [],
   "source": []
  },
  {
   "cell_type": "code",
   "execution_count": 30,
   "id": "61ec0a3c-8ef2-45f9-98fd-dd1a1cd463d3",
   "metadata": {},
   "outputs": [
    {
     "name": "stdout",
     "output_type": "stream",
     "text": [
      "Average words per note: 16.5\n",
      "Shortest note: 13 words\n",
      "Longest note: 22 words\n"
     ]
    }
   ],
   "source": [
    "# Quick analysis of our notes\n",
    "note_lengths = [len(note.split()) for note in notes]\n",
    "\n",
    "print(f\"Average words per note: {sum(note_lengths)/len(note_lengths):.1f}\")\n",
    "print(f\"Shortest note: {min(note_lengths)} words\")\n",
    "print(f\"Longest note: {max(note_lengths)} words\")"
   ]
  },
  {
   "cell_type": "code",
   "execution_count": null,
   "id": "5487d55d-d31a-4d8d-861b-236ab7d58ab1",
   "metadata": {},
   "outputs": [],
   "source": [
    "# Same Result in Different way"
   ]
  },
  {
   "cell_type": "code",
   "execution_count": 20,
   "id": "00b7845c-cf21-40e1-84f8-7d0a44219a3e",
   "metadata": {},
   "outputs": [
    {
     "name": "stdout",
     "output_type": "stream",
     "text": [
      "Average words per note: 16.8\n",
      "Shortest note: 15 words\n",
      "Longest note: 22 words\n"
     ]
    }
   ],
   "source": [
    "lengths = []\n",
    "for note in notes:\n",
    "    word_count = len(note.split())\n",
    "    lengths.append(word_count)\n",
    "\n",
    "print(f\"Average words per note: {sum(note_lengths)/len(note_lengths):.1f}\")\n",
    "print(f\"Shortest note: {min(note_lengths)} words\")\n",
    "print(f\"Longest note: {max(note_lengths)} words\")"
   ]
  },
  {
   "cell_type": "code",
   "execution_count": null,
   "id": "b047b8e5-19fe-41af-96f1-5cc3d4d58f5e",
   "metadata": {},
   "outputs": [],
   "source": []
  },
  {
   "cell_type": "code",
   "execution_count": null,
   "id": "1e0c552b-019a-4a2d-a31f-c15cdfbd5a45",
   "metadata": {},
   "outputs": [],
   "source": []
  },
  {
   "cell_type": "code",
   "execution_count": 32,
   "id": "32fe7337-0d6d-48ee-a2f5-61c8ed17eabe",
   "metadata": {},
   "outputs": [
    {
     "data": {
      "application/vnd.jupyter.widget-view+json": {
       "model_id": "0375e982e59a4a5cb8015b137f2b2555",
       "version_major": 2,
       "version_minor": 0
      },
      "text/plain": [
       "modules.json:   0%|          | 0.00/349 [00:00<?, ?B/s]"
      ]
     },
     "metadata": {},
     "output_type": "display_data"
    },
    {
     "name": "stderr",
     "output_type": "stream",
     "text": [
      "C:\\Users\\Hello\\anaconda3\\Lib\\site-packages\\huggingface_hub\\file_download.py:139: UserWarning: `huggingface_hub` cache-system uses symlinks by default to efficiently store duplicated files but your machine does not support them in C:\\Users\\Hello\\.cache\\huggingface\\hub\\models--sentence-transformers--all-MiniLM-L6-v2. Caching files will still work but in a degraded version that might require more space on your disk. This warning can be disabled by setting the `HF_HUB_DISABLE_SYMLINKS_WARNING` environment variable. For more details, see https://huggingface.co/docs/huggingface_hub/how-to-cache#limitations.\n",
      "To support symlinks on Windows, you either need to activate Developer Mode or to run Python as an administrator. In order to activate developer mode, see this article: https://docs.microsoft.com/en-us/windows/apps/get-started/enable-your-device-for-development\n",
      "  warnings.warn(message)\n"
     ]
    },
    {
     "data": {
      "application/vnd.jupyter.widget-view+json": {
       "model_id": "2c6114ed19c742c1b98931798e0294a9",
       "version_major": 2,
       "version_minor": 0
      },
      "text/plain": [
       "config_sentence_transformers.json:   0%|          | 0.00/116 [00:00<?, ?B/s]"
      ]
     },
     "metadata": {},
     "output_type": "display_data"
    },
    {
     "data": {
      "application/vnd.jupyter.widget-view+json": {
       "model_id": "d44527bc6bc5492191ac9a618de66f86",
       "version_major": 2,
       "version_minor": 0
      },
      "text/plain": [
       "README.md:   0%|          | 0.00/10.7k [00:00<?, ?B/s]"
      ]
     },
     "metadata": {},
     "output_type": "display_data"
    },
    {
     "data": {
      "application/vnd.jupyter.widget-view+json": {
       "model_id": "f640843c8fa440c4ba119e519cc6e753",
       "version_major": 2,
       "version_minor": 0
      },
      "text/plain": [
       "sentence_bert_config.json:   0%|          | 0.00/53.0 [00:00<?, ?B/s]"
      ]
     },
     "metadata": {},
     "output_type": "display_data"
    },
    {
     "data": {
      "application/vnd.jupyter.widget-view+json": {
       "model_id": "ad2e28e5c8284766b559f99219f9aad5",
       "version_major": 2,
       "version_minor": 0
      },
      "text/plain": [
       "config.json:   0%|          | 0.00/612 [00:00<?, ?B/s]"
      ]
     },
     "metadata": {},
     "output_type": "display_data"
    },
    {
     "data": {
      "application/vnd.jupyter.widget-view+json": {
       "model_id": "7cf5ac11e02f47e4a6b0118bb2a99dfa",
       "version_major": 2,
       "version_minor": 0
      },
      "text/plain": [
       "model.safetensors:   0%|          | 0.00/90.9M [00:00<?, ?B/s]"
      ]
     },
     "metadata": {},
     "output_type": "display_data"
    },
    {
     "data": {
      "application/vnd.jupyter.widget-view+json": {
       "model_id": "82b23e96816247b59ef8a237c6d9bdf9",
       "version_major": 2,
       "version_minor": 0
      },
      "text/plain": [
       "tokenizer_config.json:   0%|          | 0.00/350 [00:00<?, ?B/s]"
      ]
     },
     "metadata": {},
     "output_type": "display_data"
    },
    {
     "data": {
      "application/vnd.jupyter.widget-view+json": {
       "model_id": "e8edf1e32c014ac382c7d2267ae20867",
       "version_major": 2,
       "version_minor": 0
      },
      "text/plain": [
       "vocab.txt:   0%|          | 0.00/232k [00:00<?, ?B/s]"
      ]
     },
     "metadata": {},
     "output_type": "display_data"
    },
    {
     "data": {
      "application/vnd.jupyter.widget-view+json": {
       "model_id": "eaaf0cd6fcc747ee9fd4c6b1adbdb456",
       "version_major": 2,
       "version_minor": 0
      },
      "text/plain": [
       "tokenizer.json:   0%|          | 0.00/466k [00:00<?, ?B/s]"
      ]
     },
     "metadata": {},
     "output_type": "display_data"
    },
    {
     "data": {
      "application/vnd.jupyter.widget-view+json": {
       "model_id": "6e2da9dff66141118004b96ecdde6367",
       "version_major": 2,
       "version_minor": 0
      },
      "text/plain": [
       "special_tokens_map.json:   0%|          | 0.00/112 [00:00<?, ?B/s]"
      ]
     },
     "metadata": {},
     "output_type": "display_data"
    },
    {
     "data": {
      "application/vnd.jupyter.widget-view+json": {
       "model_id": "711b51bc44f947b49b52735488a449ad",
       "version_major": 2,
       "version_minor": 0
      },
      "text/plain": [
       "1_Pooling/config.json:   0%|          | 0.00/190 [00:00<?, ?B/s]"
      ]
     },
     "metadata": {},
     "output_type": "display_data"
    },
    {
     "name": "stdout",
     "output_type": "stream",
     "text": [
      "Model loaded successfully!\n"
     ]
    }
   ],
   "source": [
    "from sentence_transformers import SentenceTransformer\n",
    "\n",
    "# Load the model - this may take a few seconds\n",
    "model = SentenceTransformer('all-MiniLM-L6-v2')\n",
    "\n",
    "print(\"Model loaded successfully!\")"
   ]
  },
  {
   "cell_type": "code",
   "execution_count": null,
   "id": "e0850033-6e86-4b37-917e-e153074dc411",
   "metadata": {},
   "outputs": [],
   "source": []
  },
  {
   "cell_type": "code",
   "execution_count": null,
   "id": "6426e0ff-722b-4bd3-8b78-3b27786b4328",
   "metadata": {},
   "outputs": [],
   "source": [
    "# Understanding Embeddings"
   ]
  },
  {
   "cell_type": "code",
   "execution_count": 34,
   "id": "76719fd5-7ba4-474a-ac2d-990dcf95c140",
   "metadata": {},
   "outputs": [
    {
     "name": "stdout",
     "output_type": "stream",
     "text": [
      "Embedding shape: (384,)\n",
      "First 5 values: [ 0.03313289 -0.02813718  0.10922705  0.02421214  0.04646198]\n"
     ]
    }
   ],
   "source": [
    "# Create an embedding for a simple sentence\n",
    "test_sentence = \"This is a test sentence to understand embeddings.\"\n",
    "embedding = model.encode(test_sentence)\n",
    "\n",
    "# Look at the embedding's properties\n",
    "print(f\"Embedding shape: {embedding.shape}\")\n",
    "print(f\"First 5 values: {embedding[:5]}\")"
   ]
  },
  {
   "cell_type": "code",
   "execution_count": null,
   "id": "b2c319a4-57f1-40d0-bf1c-8e19bc6bbf22",
   "metadata": {},
   "outputs": [],
   "source": []
  },
  {
   "cell_type": "code",
   "execution_count": null,
   "id": "cb383f93-28ed-4adf-b185-3bdade4da1d3",
   "metadata": {},
   "outputs": [],
   "source": [
    "# Testing Batch Processing"
   ]
  },
  {
   "cell_type": "code",
   "execution_count": 36,
   "id": "20b82dd5-5cad-45c9-a8c1-7aa6c8dac6f1",
   "metadata": {},
   "outputs": [
    {
     "name": "stdout",
     "output_type": "stream",
     "text": [
      "Number of embeddings: 3\n",
      "Shape of each embedding: (384,)\n"
     ]
    }
   ],
   "source": [
    "# Create embeddings for a few test sentences\n",
    "test_sentences = [\n",
    "    \"Python is a programming language\",\n",
    "    \"Programming languages are used to write software\",\n",
    "    \"Pythons are large snakes\"\n",
    "]\n",
    "\n",
    "# Generate embeddings for all sentences at once\n",
    "embeddings = model.encode(test_sentences)\n",
    "\n",
    "print(f\"Number of embeddings: {len(embeddings)}\")\n",
    "print(f\"Shape of each embedding: {embeddings[0].shape}\")"
   ]
  },
  {
   "cell_type": "code",
   "execution_count": null,
   "id": "27a4c3e1-ddeb-4d16-b7ef-f5ea4d72da76",
   "metadata": {},
   "outputs": [],
   "source": []
  },
  {
   "cell_type": "code",
   "execution_count": null,
   "id": "670f5f8b-5344-4757-b16e-edb0642d09b1",
   "metadata": {},
   "outputs": [],
   "source": [
    "# Testing Similarity"
   ]
  },
  {
   "cell_type": "code",
   "execution_count": 38,
   "id": "24121ae2-e8aa-447a-bfef-7533c3911bec",
   "metadata": {},
   "outputs": [
    {
     "name": "stdout",
     "output_type": "stream",
     "text": [
      "\n",
      "Similarity between:\n",
      "'Python is a programming language' and\n",
      "'Programming languages are used to write software':\n",
      "0.657\n",
      "\n",
      "Similarity between:\n",
      "'Python is a programming language' and\n",
      "'Pythons are large snakes':\n",
      "0.497\n",
      "\n",
      "Similarity between:\n",
      "'Programming languages are used to write software' and\n",
      "'Pythons are large snakes':\n",
      "0.119\n"
     ]
    }
   ],
   "source": [
    "import numpy as np\n",
    "\n",
    "# Calculate similarities between sentences\n",
    "def calculate_similarity(emb1, emb2):\n",
    "    return np.dot(emb1, emb2) / (np.linalg.norm(emb1) * np.linalg.norm(emb2))\n",
    "\n",
    "# Get similarities between all pairs\n",
    "for i in range(len(test_sentences)):\n",
    "    for j in range(i + 1, len(test_sentences)):\n",
    "        similarity = calculate_similarity(embeddings[i], embeddings[j])\n",
    "        print(f\"\\nSimilarity between:\\n'{test_sentences[i]}' and\\n'{test_sentences[j]}':\\n{similarity:.3f}\")"
   ]
  },
  {
   "cell_type": "code",
   "execution_count": null,
   "id": "fcf37263-c111-4ff7-b9a9-ccd73b890757",
   "metadata": {},
   "outputs": [],
   "source": []
  },
  {
   "cell_type": "code",
   "execution_count": null,
   "id": "fea8a986-c740-45e0-a662-543640245498",
   "metadata": {},
   "outputs": [],
   "source": [
    "# Process All Notes"
   ]
  },
  {
   "cell_type": "code",
   "execution_count": 40,
   "id": "22b91665-d8fa-4887-ba13-9eb00c987762",
   "metadata": {},
   "outputs": [
    {
     "name": "stdout",
     "output_type": "stream",
     "text": [
      "Created embeddings for 10 notes\n",
      "Each embedding has shape: (384,)\n"
     ]
    }
   ],
   "source": [
    "# Convert all notes to embeddings\n",
    "note_embeddings = model.encode(notes)\n",
    "\n",
    "print(f\"Created embeddings for {len(notes)} notes\")\n",
    "print(f\"Each embedding has shape: {note_embeddings[0].shape}\")"
   ]
  },
  {
   "cell_type": "code",
   "execution_count": null,
   "id": "55873b60-053a-4f57-a77f-d9c29bfbeb76",
   "metadata": {},
   "outputs": [],
   "source": []
  },
  {
   "cell_type": "code",
   "execution_count": null,
   "id": "001cd0e6-499f-4684-b234-5086256e65df",
   "metadata": {},
   "outputs": [],
   "source": [
    "# Create Search Function"
   ]
  },
  {
   "cell_type": "code",
   "execution_count": 42,
   "id": "2d4dc788-6fa7-4ea3-9410-17262aac6b1e",
   "metadata": {},
   "outputs": [],
   "source": [
    "def search_notes(query, top_k=3):\n",
    "    # Convert search query to embedding\n",
    "    query_embedding = model.encode(query)\n",
    "    \n",
    "    # Calculate similarities with all notes\n",
    "    similarities = np.dot(note_embeddings, query_embedding) / (\n",
    "        np.linalg.norm(note_embeddings, axis=1) * np.linalg.norm(query_embedding)\n",
    "    )\n",
    "    \n",
    "    # Get top k matches\n",
    "    top_idx = np.argsort(similarities)[::-1][:top_k]\n",
    "    \n",
    "    # A list of dictionaries\n",
    "    results = []\n",
    "    for idx in top_idx:\n",
    "        results.append({\n",
    "            'note': notes[idx],\n",
    "            'similarity': similarities[idx]\n",
    "        })\n",
    "        \n",
    "    # Return matching notes with thier similarity scores\n",
    "    return results"
   ]
  },
  {
   "cell_type": "code",
   "execution_count": null,
   "id": "47473829-2894-4da1-a0a8-0eaaf49a4035",
   "metadata": {},
   "outputs": [],
   "source": []
  },
  {
   "cell_type": "code",
   "execution_count": null,
   "id": "7ab36171-061b-4a6b-9d00-d4750d39efa5",
   "metadata": {},
   "outputs": [],
   "source": [
    "# Try Some Searches"
   ]
  },
  {
   "cell_type": "code",
   "execution_count": 44,
   "id": "3a26e918-da69-4e95-a75e-6dad480ab92c",
   "metadata": {},
   "outputs": [
    {
     "name": "stdout",
     "output_type": "stream",
     "text": [
      "\n",
      "Search Query: 'How do Python lists work?'\n",
      "==================================================\n",
      "\n",
      "1. Match (79.09% similar):\n",
      "Python lists are mutable sequences used to store collections of items. They can contain mixed types and are defined using square brackets.\n",
      "\n",
      "2. Match (72.10% similar):\n",
      "Lists in Python can be modified after creation. Common operations include append(), extend(), and insert().\n",
      "\n",
      "3. Match (52.82% similar):\n",
      "Object-oriented programming in Python uses classes and objects. Classes define the structure and behavior of objects.\n",
      "\n",
      "Search Query: 'Tell me about data structures'\n",
      "==================================================\n",
      "\n",
      "1. Match (84.95% similar):\n",
      "Data structures are fundamental building blocks in programming. They help organize and store data efficiently.\n",
      "\n",
      "2. Match (36.30% similar):\n",
      "Object-oriented programming in Python uses classes and objects. Classes define the structure and behavior of objects.\n",
      "\n",
      "3. Match (34.01% similar):\n",
      "Arrays in NumPy provide efficient storage and operations for numerical data. They are widely used in scientific computing.\n",
      "\n",
      "Search Query: 'What is object oriented programming?'\n",
      "==================================================\n",
      "\n",
      "1. Match (68.08% similar):\n",
      "Object-oriented programming in Python uses classes and objects. Classes define the structure and behavior of objects.\n",
      "\n",
      "2. Match (42.41% similar):\n",
      "Data structures are fundamental building blocks in programming. They help organize and store data efficiently.\n",
      "\n",
      "3. Match (25.97% similar):\n",
      "Version control with Git helps track changes in code. Common commands include commit, push, and pull.\n"
     ]
    }
   ],
   "source": [
    "# Function to display search results nicely\n",
    "def display_results(query, results):\n",
    "    print(f\"\\nSearch Query: '{query}'\")\n",
    "    print(\"=\" * 50)\n",
    "    for i, r in enumerate(results, 1):\n",
    "        print(f\"\\n{i}. Match ({r['similarity']:.2%} similar):\")\n",
    "        print(r['note'])\n",
    "\n",
    "# Try some example searches\n",
    "queries = [\n",
    "    \"How do Python lists work?\",\n",
    "    \"Tell me about data structures\",\n",
    "    \"What is object oriented programming?\"\n",
    "]\n",
    "\n",
    "for query in queries:\n",
    "    results = search_notes(query)\n",
    "    display_results(query, results)"
   ]
  },
  {
   "cell_type": "code",
   "execution_count": null,
   "id": "03f0cf8a-bdb0-4cc5-b8fa-a0a882d2a21c",
   "metadata": {},
   "outputs": [],
   "source": []
  },
  {
   "cell_type": "code",
   "execution_count": 46,
   "id": "e71905f8-c05d-43e3-a4aa-1abdc906ba0e",
   "metadata": {},
   "outputs": [
    {
     "name": "stdout",
     "output_type": "stream",
     "text": [
      "\n",
      "Search Query: 'What's the difference between lists and arrays?'\n",
      "==================================================\n",
      "\n",
      "1. Match (59.03% similar):\n",
      "Python lists are mutable sequences used to store collections of items. They can contain mixed types and are defined using square brackets.\n",
      "\n",
      "2. Match (48.82% similar):\n",
      "Arrays in NumPy provide efficient storage and operations for numerical data. They are widely used in scientific computing.\n",
      "\n",
      "3. Match (47.15% similar):\n",
      "Lists in Python can be modified after creation. Common operations include append(), extend(), and insert().\n"
     ]
    }
   ],
   "source": [
    "# Test with your own query\n",
    "my_query = \"What's the difference between lists and arrays?\"\n",
    "results = search_notes(my_query)\n",
    "display_results(my_query, results)"
   ]
  },
  {
   "cell_type": "code",
   "execution_count": null,
   "id": "9318cb21-05b6-4834-adce-860bdc4c6217",
   "metadata": {},
   "outputs": [],
   "source": []
  },
  {
   "cell_type": "code",
   "execution_count": null,
   "id": "f05bc474-6613-4e0c-b2e1-adac740815a6",
   "metadata": {},
   "outputs": [],
   "source": []
  }
 ],
 "metadata": {
  "kernelspec": {
   "display_name": "Python 3 (ipykernel)",
   "language": "python",
   "name": "python3"
  },
  "language_info": {
   "codemirror_mode": {
    "name": "ipython",
    "version": 3
   },
   "file_extension": ".py",
   "mimetype": "text/x-python",
   "name": "python",
   "nbconvert_exporter": "python",
   "pygments_lexer": "ipython3",
   "version": "3.12.4"
  }
 },
 "nbformat": 4,
 "nbformat_minor": 5
}
